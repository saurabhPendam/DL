{
 "cells": [
  {
   "cell_type": "code",
   "execution_count": 1,
   "id": "5871e7e5-db0d-4b6a-89c3-1fce5f0f83a8",
   "metadata": {},
   "outputs": [
    {
     "name": "stdout",
     "output_type": "stream",
     "text": [
      "WARNING:tensorflow:From c:\\users\\saura\\appdata\\local\\programs\\python\\python39\\lib\\site-packages\\keras\\src\\losses.py:2976: The name tf.losses.sparse_softmax_cross_entropy is deprecated. Please use tf.compat.v1.losses.sparse_softmax_cross_entropy instead.\n",
      "\n"
     ]
    }
   ],
   "source": [
    "import tensorflow as tf\n",
    "from tensorflow.keras import layers, models\n",
    "from tensorflow.keras.utils import to_categorical\n",
    "from sklearn.preprocessing import LabelBinarizer\n",
    "from sklearn.metrics import classification_report\n",
    "from sklearn.model_selection import train_test_split\n",
    "import pandas as pd\n",
    "import numpy as np"
   ]
  },
  {
   "cell_type": "code",
   "execution_count": 2,
   "id": "f627645d-87d8-48e7-91c0-42594c6087f6",
   "metadata": {},
   "outputs": [],
   "source": [
    "#Load the training data\n",
    "train_data = pd.read_csv('train_data.csv')\n",
    "X_train = train_data.drop('label', axis=1).values\n",
    "Y_train = train_data['label'].values"
   ]
  },
  {
   "cell_type": "code",
   "execution_count": 3,
   "id": "912f0f4b-72b8-431a-b58d-84ecdc31f111",
   "metadata": {},
   "outputs": [],
   "source": [
    "#Determine the number of classes dynamically\n",
    "NumClasses = train_data['label'].nunique()"
   ]
  },
  {
   "cell_type": "code",
   "execution_count": 4,
   "id": "07ba0060-3723-487b-940d-90780562a928",
   "metadata": {},
   "outputs": [],
   "source": [
    "#Ensure the number of features matches the input shape expected by the model\n",
    "input_shape=X_train.shape[1]"
   ]
  },
  {
   "cell_type": "code",
   "execution_count": 5,
   "id": "f984a2c4-1cf5-4b6a-8075-5d4f6b3a83a0",
   "metadata": {},
   "outputs": [],
   "source": [
    "#Load the testing data\n",
    "test_data = pd.read_csv('test_data.csv')\n",
    "X_test = test_data.values"
   ]
  },
  {
   "cell_type": "code",
   "execution_count": 6,
   "id": "1abec068-d7b0-4105-ab8c-3015b25edd5a",
   "metadata": {},
   "outputs": [],
   "source": [
    "#Normalize pixel value to be between 0 and 1\n",
    "X_train = X_train.astype(\"float32\") / 255.0\n",
    "X_test = X_test.astype(\"float32\") / 255.0"
   ]
  },
  {
   "cell_type": "code",
   "execution_count": 7,
   "id": "f90e4a91-b04d-43f9-af10-b9dcc8489a67",
   "metadata": {},
   "outputs": [],
   "source": [
    "if X_test.shape[1] != input_shape:\n",
    "    X_test = X_test.reshape((X_test.shape[0], -1))"
   ]
  },
  {
   "cell_type": "code",
   "execution_count": 8,
   "id": "5e47d140-d6a3-4b2a-b772-10975ca2bcb8",
   "metadata": {},
   "outputs": [
    {
     "name": "stdout",
     "output_type": "stream",
     "text": [
      "X_test shape before reshaping: (10000, 3073)\n",
      "X_test size before reshaping: 30730000\n"
     ]
    }
   ],
   "source": [
    "# Check the current shape and size of X_test\n",
    "print(\"X_test shape before reshaping:\", X_test.shape)\n",
    "print(\"X_test size before reshaping:\", X_test.size)\n"
   ]
  },
  {
   "cell_type": "code",
   "execution_count": 9,
   "id": "76e1bf6f-27d3-4ab5-bb30-5abdfb26a22a",
   "metadata": {},
   "outputs": [],
   "source": [
    "lb = LabelBinarizer()\n",
    "Y_train = lb.fit_transform(Y_train)"
   ]
  },
  {
   "cell_type": "code",
   "execution_count": 10,
   "id": "3e27c90c-81ff-4031-90fa-db4acdb1005d",
   "metadata": {},
   "outputs": [],
   "source": [
    "#Split the training data into training and validation sets\n",
    "X_train, X_val, Y_train, Y_val = train_test_split(X_train, Y_train, test_size=0.2, random_state=42)"
   ]
  },
  {
   "cell_type": "code",
   "execution_count": 11,
   "id": "249f8c2a-10f6-45bb-87a7-0b071b08848a",
   "metadata": {},
   "outputs": [],
   "source": [
    "# Reshape X_train and X_val\n",
    "X_train = X_train.reshape(-1, 32, 32, 3)\n",
    "X_val = X_val.reshape(-1, 32, 32, 3)"
   ]
  },
  {
   "cell_type": "code",
   "execution_count": 12,
   "id": "a8a6cdb0-e30f-4ccb-b488-570fa1dc387c",
   "metadata": {},
   "outputs": [],
   "source": [
    "# Convert integer labels to one-hot encoded labels\n",
    "Y_train_one_hot = to_categorical(Y_train, num_classes=NumClasses)\n",
    "Y_val_one_hot = to_categorical(Y_val, num_classes=NumClasses)"
   ]
  },
  {
   "cell_type": "code",
   "execution_count": 13,
   "id": "9dd2ce16-9a2d-4ad1-a05f-15b5fd573d23",
   "metadata": {},
   "outputs": [
    {
     "name": "stdout",
     "output_type": "stream",
     "text": [
      "WARNING:tensorflow:From c:\\users\\saura\\appdata\\local\\programs\\python\\python39\\lib\\site-packages\\keras\\src\\backend.py:873: The name tf.get_default_graph is deprecated. Please use tf.compat.v1.get_default_graph instead.\n",
      "\n",
      "WARNING:tensorflow:From c:\\users\\saura\\appdata\\local\\programs\\python\\python39\\lib\\site-packages\\keras\\src\\layers\\pooling\\max_pooling2d.py:161: The name tf.nn.max_pool is deprecated. Please use tf.nn.max_pool2d instead.\n",
      "\n",
      "Model: \"sequential\"\n",
      "_________________________________________________________________\n",
      " Layer (type)                Output Shape              Param #   \n",
      "=================================================================\n",
      " conv2d (Conv2D)             (None, 30, 30, 32)        896       \n",
      "                                                                 \n",
      " max_pooling2d (MaxPooling2  (None, 15, 15, 32)        0         \n",
      " D)                                                              \n",
      "                                                                 \n",
      " conv2d_1 (Conv2D)           (None, 13, 13, 64)        18496     \n",
      "                                                                 \n",
      " max_pooling2d_1 (MaxPoolin  (None, 6, 6, 64)          0         \n",
      " g2D)                                                            \n",
      "                                                                 \n",
      " conv2d_2 (Conv2D)           (None, 4, 4, 32)          18464     \n",
      "                                                                 \n",
      " flatten (Flatten)           (None, 512)               0         \n",
      "                                                                 \n",
      " dense (Dense)               (None, 64)                32832     \n",
      "                                                                 \n",
      " dense_1 (Dense)             (None, 10)                650       \n",
      "                                                                 \n",
      "=================================================================\n",
      "Total params: 71338 (278.66 KB)\n",
      "Trainable params: 71338 (278.66 KB)\n",
      "Non-trainable params: 0 (0.00 Byte)\n",
      "_________________________________________________________________\n"
     ]
    }
   ],
   "source": [
    "#Model definition\n",
    "model = models.Sequential()\n",
    "model.add(layers.Conv2D(32, (3, 3), activation='relu', input_shape=(32, 32, 3)))\n",
    "model.add(layers.MaxPooling2D((2, 2)))\n",
    "model.add(layers.Conv2D(64, (3,3), activation = 'relu'))\n",
    "model.add(layers.MaxPooling2D((2, 2)))\n",
    "model.add(layers.Conv2D(32, (3, 3), activation = 'relu'))\n",
    "model.add(layers.Flatten())\n",
    "model.add(layers.Dense(64, activation='relu'))\n",
    "model.add(layers.Dense(10, activation='softmax'))\n",
    "model.summary()"
   ]
  },
  {
   "cell_type": "code",
   "execution_count": 16,
   "id": "a5c5c15e-4412-4e27-99cb-f0ce19919631",
   "metadata": {},
   "outputs": [],
   "source": [
    "#model.compile(optimizer= 'adam', loss='sparse_categorical_crossentropy', metrics=['accuracy'])"
   ]
  },
  {
   "cell_type": "code",
   "execution_count": 18,
   "id": "0abae0d4-c913-4f5c-ae8d-fdafa76549da",
   "metadata": {},
   "outputs": [
    {
     "name": "stdout",
     "output_type": "stream",
     "text": [
      "Epoch 1/10\n",
      "1250/1250 [==============================] - 39s 31ms/step - loss: 0.9209 - accuracy: 0.6760 - val_loss: 0.9675 - val_accuracy: 0.6655\n",
      "Epoch 2/10\n",
      "1250/1250 [==============================] - 44s 35ms/step - loss: 0.8729 - accuracy: 0.6928 - val_loss: 0.9351 - val_accuracy: 0.6753\n",
      "Epoch 3/10\n",
      "1250/1250 [==============================] - 43s 34ms/step - loss: 0.8259 - accuracy: 0.7121 - val_loss: 0.9339 - val_accuracy: 0.6792\n",
      "Epoch 4/10\n",
      "1250/1250 [==============================] - 36s 29ms/step - loss: 0.7932 - accuracy: 0.7210 - val_loss: 0.9220 - val_accuracy: 0.6811\n",
      "Epoch 5/10\n",
      "1250/1250 [==============================] - 37s 29ms/step - loss: 0.7581 - accuracy: 0.7329 - val_loss: 0.9345 - val_accuracy: 0.6824\n",
      "Epoch 6/10\n",
      "1250/1250 [==============================] - 36s 28ms/step - loss: 0.7239 - accuracy: 0.7436 - val_loss: 0.9998 - val_accuracy: 0.6657\n",
      "Epoch 7/10\n",
      "1250/1250 [==============================] - 36s 28ms/step - loss: 0.6943 - accuracy: 0.7570 - val_loss: 0.9421 - val_accuracy: 0.6852\n",
      "Epoch 8/10\n",
      "1250/1250 [==============================] - 36s 28ms/step - loss: 0.6583 - accuracy: 0.7669 - val_loss: 0.9216 - val_accuracy: 0.6862\n",
      "Epoch 9/10\n",
      "1250/1250 [==============================] - 36s 28ms/step - loss: 0.6379 - accuracy: 0.7748 - val_loss: 0.9528 - val_accuracy: 0.6900\n",
      "Epoch 10/10\n",
      "1250/1250 [==============================] - 36s 29ms/step - loss: 0.6117 - accuracy: 0.7831 - val_loss: 0.9836 - val_accuracy: 0.6808\n"
     ]
    },
    {
     "data": {
      "text/plain": [
       "<keras.src.callbacks.History at 0x12f3e7553d0>"
      ]
     },
     "execution_count": 18,
     "metadata": {},
     "output_type": "execute_result"
    }
   ],
   "source": [
    "# Training the model\n",
    "epochs = 10\n",
    "model.compile(optimizer='adam', loss='categorical_crossentropy', metrics=['accuracy'])\n",
    "model.fit(X_train, Y_train, epochs=epochs, validation_data=(X_val, Y_val))\n"
   ]
  },
  {
   "cell_type": "code",
   "execution_count": null,
   "id": "216b4930-2d14-4370-a8d3-be0383e9c677",
   "metadata": {},
   "outputs": [],
   "source": [
    "test_loss, test_acc = model.evaluate(X_val, Y_val, verbose = 2)\n",
    "print('\\nTest accuracy: ', test_acc)\n",
    "print('\\nTest Loss: ', test_loss)"
   ]
  }
 ],
 "metadata": {
  "kernelspec": {
   "display_name": "Python 3 (ipykernel)",
   "language": "python",
   "name": "python3"
  },
  "language_info": {
   "codemirror_mode": {
    "name": "ipython",
    "version": 3
   },
   "file_extension": ".py",
   "mimetype": "text/x-python",
   "name": "python",
   "nbconvert_exporter": "python",
   "pygments_lexer": "ipython3",
   "version": "3.9.0"
  }
 },
 "nbformat": 4,
 "nbformat_minor": 5
}
