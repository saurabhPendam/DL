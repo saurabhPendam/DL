{
 "cells": [
  {
   "cell_type": "code",
   "execution_count": 1,
   "id": "56b2d7e9-9a65-4ecb-950e-09b72a8c90d6",
   "metadata": {},
   "outputs": [
    {
     "name": "stdout",
     "output_type": "stream",
     "text": [
      "WARNING:tensorflow:From c:\\users\\saura\\appdata\\local\\programs\\python\\python39\\lib\\site-packages\\keras\\src\\losses.py:2976: The name tf.losses.sparse_softmax_cross_entropy is deprecated. Please use tf.compat.v1.losses.sparse_softmax_cross_entropy instead.\n",
      "\n"
     ]
    }
   ],
   "source": [
    "import tensorflow as tf\n",
    "from tensorflow.keras.layers import Dense\n",
    "from tensorflow.keras.models import Sequential\n",
    "from tensorflow.keras.optimizers import SGD\n",
    "from sklearn.preprocessing import LabelBinarizer\n",
    "from sklearn.metrics import classification_report\n",
    "from sklearn.model_selection import train_test_split\n",
    "import matplotlib.pyplot as plt\n",
    "import pandas as pd\n",
    "import numpy as np"
   ]
  },
  {
   "cell_type": "code",
   "execution_count": 2,
   "id": "199aeda7-0d4f-4288-bd42-00023910f3dc",
   "metadata": {},
   "outputs": [],
   "source": [
    "#Load the training data\n",
    "train_data = pd.read_csv('train_data.csv')\n",
    "X_train = train_data.drop('label', axis=1).values\n",
    "Y_train = train_data['label'].values"
   ]
  },
  {
   "cell_type": "code",
   "execution_count": 3,
   "id": "5706779e-a74e-4b4d-b7cd-2a6e7038bcea",
   "metadata": {},
   "outputs": [],
   "source": [
    "NumClasses = train_data['label'].nunique()"
   ]
  },
  {
   "cell_type": "code",
   "execution_count": 4,
   "id": "3323c961-79e0-465b-886b-63f84e5dd23c",
   "metadata": {},
   "outputs": [],
   "source": [
    "input_shape = X_train.shape[1]"
   ]
  },
  {
   "cell_type": "code",
   "execution_count": 5,
   "id": "c09b3bf3-4ce7-4229-9a0b-ba76d15084fc",
   "metadata": {},
   "outputs": [],
   "source": [
    "#Load the testing data\n",
    "test_data = pd.read_csv('test_data.csv')\n",
    "X_test = test_data.values"
   ]
  },
  {
   "cell_type": "code",
   "execution_count": 6,
   "id": "f3cd1934-8740-4ba1-b85b-9cfd420ec5fa",
   "metadata": {},
   "outputs": [],
   "source": [
    "#Normalize pixel values to be between 0 and 1\n",
    "X_train = X_train.astype(\"float32\") / 255.0\n",
    "X_test = X_test.astype(\"float32\") / 255.0"
   ]
  },
  {
   "cell_type": "code",
   "execution_count": 7,
   "id": "8df01649-77b9-4a07-b0b6-171206a4e297",
   "metadata": {},
   "outputs": [
    {
     "name": "stdout",
     "output_type": "stream",
     "text": [
      "(10000, 3073)\n"
     ]
    }
   ],
   "source": [
    "print(X_test.shape)"
   ]
  },
  {
   "cell_type": "code",
   "execution_count": 8,
   "id": "4456332f-8447-4cb4-939e-810933263742",
   "metadata": {},
   "outputs": [],
   "source": [
    "#Ensure the number of features matches the input shape expected by the model\n",
    "if X_test.shape[1] != input_shape:\n",
    "    X_test = X_test.reshape((X_test.shape[0], -1))"
   ]
  },
  {
   "cell_type": "code",
   "execution_count": 9,
   "id": "0babdfb1-9966-44db-9135-260fa55e75a5",
   "metadata": {},
   "outputs": [],
   "source": [
    "lb = LabelBinarizer()\n",
    "Y_train = lb.fit_transform(Y_train)"
   ]
  },
  {
   "cell_type": "code",
   "execution_count": 10,
   "id": "e873b497-101a-41a4-9b45-0ae419640778",
   "metadata": {},
   "outputs": [],
   "source": [
    "#split the trainig data into training and validation sets\n",
    "X_train, X_val, Y_train, Y_val = train_test_split(X_train, Y_train, test_size = 0.2, random_state=42)"
   ]
  },
  {
   "cell_type": "code",
   "execution_count": 13,
   "id": "3015d7cf-f396-449f-8cad-50b5da879672",
   "metadata": {},
   "outputs": [],
   "source": [
    "model = Sequential()\n",
    "model.add(Dense(128, input_shape=(input_shape,), activation=\"sigmoid\"))\n",
    "model.add(Dense(64, activation= \"sigmoid\"))\n",
    "model.add(Dense(NumClasses, activation=\"softmax\"))"
   ]
  },
  {
   "cell_type": "code",
   "execution_count": 15,
   "id": "df6faeb8-f7d5-40f0-be3b-7d98c8415e85",
   "metadata": {},
   "outputs": [
    {
     "name": "stdout",
     "output_type": "stream",
     "text": [
      "Epoch 1/10\n",
      "313/313 [==============================] - 8s 20ms/step - loss: 2.0394 - accuracy: 0.2916 - val_loss: 2.0323 - val_accuracy: 0.2866\n",
      "Epoch 2/10\n",
      "313/313 [==============================] - 6s 20ms/step - loss: 2.0216 - accuracy: 0.2958 - val_loss: 2.0154 - val_accuracy: 0.2900\n",
      "Epoch 3/10\n",
      "313/313 [==============================] - 6s 19ms/step - loss: 2.0056 - accuracy: 0.2973 - val_loss: 2.0003 - val_accuracy: 0.2911\n",
      "Epoch 4/10\n",
      "313/313 [==============================] - 6s 19ms/step - loss: 1.9912 - accuracy: 0.3012 - val_loss: 1.9861 - val_accuracy: 0.2984\n",
      "Epoch 5/10\n",
      "313/313 [==============================] - 6s 18ms/step - loss: 1.9780 - accuracy: 0.3034 - val_loss: 1.9737 - val_accuracy: 0.3013\n",
      "Epoch 6/10\n",
      "313/313 [==============================] - 6s 18ms/step - loss: 1.9661 - accuracy: 0.3076 - val_loss: 1.9626 - val_accuracy: 0.3005\n",
      "Epoch 7/10\n",
      "313/313 [==============================] - 6s 20ms/step - loss: 1.9554 - accuracy: 0.3107 - val_loss: 1.9519 - val_accuracy: 0.3049\n",
      "Epoch 8/10\n",
      "313/313 [==============================] - 6s 19ms/step - loss: 1.9457 - accuracy: 0.3122 - val_loss: 1.9418 - val_accuracy: 0.3116\n",
      "Epoch 9/10\n",
      "313/313 [==============================] - 6s 19ms/step - loss: 1.9369 - accuracy: 0.3154 - val_loss: 1.9343 - val_accuracy: 0.3093\n",
      "Epoch 10/10\n",
      "313/313 [==============================] - 6s 19ms/step - loss: 1.9289 - accuracy: 0.3197 - val_loss: 1.9268 - val_accuracy: 0.3097\n"
     ]
    }
   ],
   "source": [
    "sgd = SGD(0.01)\n",
    "epochs = 10\n",
    "model.compile(loss=\"categorical_crossentropy\", optimizer=sgd, metrics=['accuracy'])\n",
    "H = model.fit(X_train, Y_train, validation_data=(X_val, Y_val), epochs = epochs, batch_size=128)"
   ]
  },
  {
   "cell_type": "code",
   "execution_count": 16,
   "id": "ec19dd25-d956-42b8-a47b-bd4574004956",
   "metadata": {},
   "outputs": [
    {
     "name": "stdout",
     "output_type": "stream",
     "text": [
      "79/79 [==============================] - 1s 10ms/step\n",
      "Validation Set Performance\n",
      "              precision    recall  f1-score   support\n",
      "\n",
      "           0       0.31      0.45      0.37       973\n",
      "           1       0.33      0.25      0.28       979\n",
      "           2       0.24      0.09      0.13      1030\n",
      "           3       0.25      0.04      0.08      1023\n",
      "           4       0.25      0.10      0.15       933\n",
      "           5       0.26      0.44      0.32      1015\n",
      "           6       0.27      0.53      0.36       996\n",
      "           7       0.33      0.20      0.25       994\n",
      "           8       0.37      0.53      0.44      1017\n",
      "           9       0.40      0.46      0.43      1040\n",
      "\n",
      "    accuracy                           0.31     10000\n",
      "   macro avg       0.30      0.31      0.28     10000\n",
      "weighted avg       0.30      0.31      0.28     10000\n",
      "\n"
     ]
    }
   ],
   "source": [
    "#Evaluation \n",
    "predictions = model.predict(X_val, batch_size = 128)\n",
    "print(\"Validation Set Performance\")\n",
    "print(classification_report(Y_val.argmax(axis=1), predictions.argmax(axis=1), target_names=[str(x) for x in lb.classes_]))"
   ]
  },
  {
   "cell_type": "code",
   "execution_count": null,
   "id": "33b41c23-ae8a-4081-a7de-f621b660629f",
   "metadata": {},
   "outputs": [],
   "source": [
    "plt.style.use(\"ggplot\")\n",
    "plt.figure(figsize=(12,6))\n",
    "plt.subplot(1, 2, 1)\n",
    "plt.plot(np.arange(0, epochs), H.history[\"loss\"], label=\"train_loss\")\n",
    "plt.plot(np.arange(0, epochs), H.history[\"val_loss\"], label=\"val_loss\")\n",
    "plt.title(\"Training and validation Loss\")\n",
    "plt.xlabel(\"Epoch #\")\n",
    "plt.ylabel(\"Loss\")\n",
    "plt.legend()\n",
    "\n",
    "plt.subplot(1, 2, 2)\n",
    "plt.plot(np.arange(0, epochs), H.history[\"accuracy\"], label=\"train_acc\")\n",
    "plt.plot(np.arange(0, epochs), H.history[\"val_accuracy\"], label=\"val_accuracy\")\n",
    "plt.title(\"Training and validation accuracy\")\n",
    "plt.xlabel(\"Epoch #\")\n",
    "plt.ylabel(\"Accuracy\")\n",
    "plt.legend()\n",
    "\n",
    "plt.tight_layout()\n",
    "plt.show()"
   ]
  },
  {
   "cell_type": "code",
   "execution_count": null,
   "id": "1ec24e7d-5b6b-4dea-9952-0e238ff1fce4",
   "metadata": {},
   "outputs": [],
   "source": []
  }
 ],
 "metadata": {
  "kernelspec": {
   "display_name": "Python 3 (ipykernel)",
   "language": "python",
   "name": "python3"
  },
  "language_info": {
   "codemirror_mode": {
    "name": "ipython",
    "version": 3
   },
   "file_extension": ".py",
   "mimetype": "text/x-python",
   "name": "python",
   "nbconvert_exporter": "python",
   "pygments_lexer": "ipython3",
   "version": "3.9.0"
  }
 },
 "nbformat": 4,
 "nbformat_minor": 5
}
