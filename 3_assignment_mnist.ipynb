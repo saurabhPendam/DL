{
 "cells": [
  {
   "cell_type": "code",
   "execution_count": 21,
   "id": "d893c3ef-2dcc-4d0a-894a-49f2368dd3e3",
   "metadata": {},
   "outputs": [],
   "source": [
    "import numpy as np\n",
    "import pandas as pd\n",
    "import matplotlib.pyplot as plt\n",
    "import tensorflow as tf\n",
    "from tensorflow.keras import layers, models"
   ]
  },
  {
   "cell_type": "code",
   "execution_count": 22,
   "id": "be28cb14-78ff-42e0-b2f8-3c4b228c4096",
   "metadata": {},
   "outputs": [],
   "source": [
    "#Loading and preprocessing the image data\n",
    "train_data = pd.read_csv('mnist_train.csv')\n",
    "test_data = pd.read_csv('mnist_test.csv')"
   ]
  },
  {
   "cell_type": "code",
   "execution_count": 23,
   "id": "8d3b5897-a9ed-4cbc-98e6-6744ae3b53d6",
   "metadata": {},
   "outputs": [],
   "source": [
    "#Extracting features and labels\n",
    "train_images = train_data.iloc[:, 1:].values.reshape(-1, 28, 28, 1) / 255.0\n",
    "train_labels = train_data.iloc[:, 0].values"
   ]
  },
  {
   "cell_type": "code",
   "execution_count": 24,
   "id": "351fca1a-849a-4364-b2ce-dd4f8310137c",
   "metadata": {},
   "outputs": [],
   "source": [
    "test_images = test_data.iloc[:, 1:].values.reshape(-1, 28, 28, 1) / 255.0\n",
    "test_labels = test_data.iloc[:, 0].values"
   ]
  },
  {
   "cell_type": "code",
   "execution_count": 25,
   "id": "65a2237a-3812-4cb5-a262-9c6946f5a0ef",
   "metadata": {},
   "outputs": [
    {
     "data": {
      "image/png": "[encoded data removed]",
      "text/plain": [
       "<Figure size 1000x1000 with 10 Axes>"
      ]
     },
     "metadata": {},
     "output_type": "display_data"
    }
   ],
   "source": [
    "#Displaying the first 10 images with labels\n",
    "class_names = [str(i) for i in range(10)]\n",
    "plt.figure(figsize=(10, 10))\n",
    "for i in range(10):\n",
    "    plt.subplot(5, 5, i+1)\n",
    "    plt.xticks([])\n",
    "    plt.yticks([])\n",
    "    plt.grid(False)\n",
    "    plt.imshow(train_images[i].reshape(28, 28), cmap=plt.cm.binary)\n",
    "    plt.xlabel(class_names[train_labels[i]])"
   ]
  },
  {
   "cell_type": "code",
   "execution_count": 27,
   "id": "e25ded66-285e-4745-8f11-8962dcfa183e",
   "metadata": {},
   "outputs": [
    {
     "name": "stdout",
     "output_type": "stream",
     "text": [
      "Model: \"sequential_2\"\n",
      "_________________________________________________________________\n",
      " Layer (type)                Output Shape              Param #   \n",
      "=================================================================\n",
      " conv2d_4 (Conv2D)           (None, 26, 26, 32)        320       \n",
      "                                                                 \n",
      " max_pooling2d_2 (MaxPoolin  (None, 13, 13, 32)        0         \n",
      " g2D)                                                            \n",
      "                                                                 \n",
      " conv2d_5 (Conv2D)           (None, 11, 11, 64)        18496     \n",
      "                                                                 \n",
      " max_pooling2d_3 (MaxPoolin  (None, 5, 5, 64)          0         \n",
      " g2D)                                                            \n",
      "                                                                 \n",
      " conv2d_6 (Conv2D)           (None, 3, 3, 64)          36928     \n",
      "                                                                 \n",
      " flatten_1 (Flatten)         (None, 576)               0         \n",
      "                                                                 \n",
      " dense_2 (Dense)             (None, 64)                36928     \n",
      "                                                                 \n",
      " dense_3 (Dense)             (None, 10)                650       \n",
      "                                                                 \n",
      "=================================================================\n",
      "Total params: 93322 (364.54 KB)\n",
      "Trainable params: 93322 (364.54 KB)\n",
      "Non-trainable params: 0 (0.00 Byte)\n",
      "_________________________________________________________________\n"
     ]
    }
   ],
   "source": [
    "#Defining the model's architecture \n",
    "model = models.Sequential()\n",
    "model.add(layers.Conv2D(32, (3, 3), activation='relu', input_shape=(28,28, 1)))\n",
    "model.add(layers.MaxPooling2D((2,2)))\n",
    "model.add(layers.Conv2D(64, (3, 3), activation = 'relu'))\n",
    "model.add(layers.MaxPooling2D((2, 2)))\n",
    "model.add(layers.Conv2D(64, (3, 3), activation = 'relu'))\n",
    "model.add(layers.Flatten())\n",
    "model.add(layers.Dense(64, activation='relu'))\n",
    "model.add(layers.Dense(10, activation='softmax'))\n",
    "model.summary()"
   ]
  },
  {
   "cell_type": "code",
   "execution_count": 28,
   "id": "44c19176-7f4e-4715-8b37-04a714863ebe",
   "metadata": {},
   "outputs": [],
   "source": [
    "#Training the model\n",
    "model.compile(optimizer='adam', loss=tf.keras.losses.SparseCategoricalCrossentropy(), metrics=['accuracy'])"
   ]
  },
  {
   "cell_type": "code",
   "execution_count": 29,
   "id": "ec8ce740-5fe9-4d93-97aa-ae08becb0c37",
   "metadata": {},
   "outputs": [
    {
     "name": "stdout",
     "output_type": "stream",
     "text": [
      "Epoch 1/10\n",
      "1875/1875 [==============================] - 65s 33ms/step - loss: 0.1479 - accuracy: 0.9547 - val_loss: 0.0365 - val_accuracy: 0.9882\n",
      "Epoch 2/10\n",
      "1875/1875 [==============================] - 63s 33ms/step - loss: 0.0484 - accuracy: 0.9852 - val_loss: 0.0369 - val_accuracy: 0.9882\n",
      "Epoch 3/10\n",
      "1875/1875 [==============================] - 62s 33ms/step - loss: 0.0327 - accuracy: 0.9898 - val_loss: 0.0357 - val_accuracy: 0.9884\n",
      "Epoch 4/10\n",
      "1875/1875 [==============================] - 63s 34ms/step - loss: 0.0256 - accuracy: 0.9921 - val_loss: 0.0327 - val_accuracy: 0.9908\n",
      "Epoch 5/10\n",
      "1875/1875 [==============================] - 62s 33ms/step - loss: 0.0199 - accuracy: 0.9935 - val_loss: 0.0294 - val_accuracy: 0.9915\n",
      "Epoch 6/10\n",
      "1875/1875 [==============================] - 60s 32ms/step - loss: 0.0180 - accuracy: 0.9941 - val_loss: 0.0318 - val_accuracy: 0.9897\n",
      "Epoch 7/10\n",
      "1875/1875 [==============================] - 68s 36ms/step - loss: 0.0131 - accuracy: 0.9958 - val_loss: 0.0304 - val_accuracy: 0.9912\n",
      "Epoch 8/10\n",
      "1875/1875 [==============================] - 65s 34ms/step - loss: 0.0108 - accuracy: 0.9967 - val_loss: 0.0357 - val_accuracy: 0.9901\n",
      "Epoch 9/10\n",
      "1875/1875 [==============================] - 71s 38ms/step - loss: 0.0110 - accuracy: 0.9964 - val_loss: 0.0344 - val_accuracy: 0.9922\n",
      "Epoch 10/10\n",
      "1875/1875 [==============================] - 62s 33ms/step - loss: 0.0092 - accuracy: 0.9968 - val_loss: 0.0326 - val_accuracy: 0.9910\n",
      "313/313 - 3s - loss: 0.0326 - accuracy: 0.9910 - 3s/epoch - 10ms/step\n"
     ]
    }
   ],
   "source": [
    "#Estimating the model performance\n",
    "epochs = 10\n",
    "history = model.fit(train_images, train_labels, epochs = epochs, validation_data=(test_images, test_labels))\n",
    "\n",
    "test_loss, test_acc = model.evaluate(test_images, test_labels, verbose=2)"
   ]
  },
  {
   "cell_type": "code",
   "execution_count": 30,
   "id": "f4e0a308-6078-4042-b195-01398fc412ed",
   "metadata": {},
   "outputs": [
    {
     "name": "stdout",
     "output_type": "stream",
     "text": [
      "\n",
      "Test Accuracy: 0.9909999966621399\n",
      "\n",
      "Test Loss: 0.03257673233747482\n"
     ]
    }
   ],
   "source": [
    "print('\\nTest Accuracy:', test_acc)\n",
    "print('\\nTest Loss:', test_loss)"
   ]
  },
  {
   "cell_type": "code",
   "execution_count": null,
   "id": "9948da40-83e5-40ca-95d4-dd94a2245b6f",
   "metadata": {},
   "outputs": [],
   "source": []
  }
 ],
 "metadata": {
  "kernelspec": {
   "display_name": "Python 3 (ipykernel)",
   "language": "python",
   "name": "python3"
  },
  "language_info": {
   "codemirror_mode": {
    "name": "ipython",
    "version": 3
   },
   "file_extension": ".py",
   "mimetype": "text/x-python",
   "name": "python",
   "nbconvert_exporter": "python",
   "pygments_lexer": "ipython3",
   "version": "3.9.0"
  }
 },
 "nbformat": 4,
 "nbformat_minor": 5
}
